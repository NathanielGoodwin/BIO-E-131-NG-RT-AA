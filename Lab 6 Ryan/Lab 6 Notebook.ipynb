{
 "cells": [
  {
   "cell_type": "markdown",
   "metadata": {},
   "source": [
    "Here's me running bowtie:"
   ]
  },
  {
   "cell_type": "markdown",
   "metadata": {},
   "source": [
    "be131-19@meowth:~$ bowtie2 -p 4 --very-fast  --no-unal -x /data/hg19/hg19 -U /data/lab6/illumina_reads.fastq -S output.sam --un unaligned.fastq\n",
    "1124714 reads; of these:\n",
    "  1124714 (100.00%) were unpaired; of these:\n",
    "    1028379 (91.43%) aligned 0 times\n",
    "    87274 (7.76%) aligned exactly 1 time\n",
    "    9061 (0.81%) aligned >1 times\n",
    "8.57% overall alignment rate"
   ]
  },
  {
   "cell_type": "markdown",
   "metadata": {},
   "source": [
    "Q) What percentage of your sequencing library came from contaminating DNA?\n",
    "A) 8.57%"
   ]
  },
  {
   "cell_type": "markdown",
   "metadata": {},
   "source": [
    "bowtie2 -p 4 --very-fast  --no-unal -x /data/lab6/shewanella_oneidensis_mr-1 -U /home/be131-19/Ryan's_Lab_6_Extravaganza!/unaligned.fastq -S output2.sam --un unaligned2.fastq"
   ]
  },
  {
   "cell_type": "markdown",
   "metadata": {},
   "source": [
    "jupyter --paths /home/be131-19/Ryan's_Lab_6_Extravaganza!/unaligned.fastq"
   ]
  },
  {
   "cell_type": "markdown",
   "metadata": {},
   "source": [
    "Converting from SAM to BAM"
   ]
  },
  {
   "cell_type": "markdown",
   "metadata": {},
   "source": [
    "samtools view -b /path/to/input > /path/to/output\n",
    "samtools sort /path/to/input > my_alignment.sorted.bam\n",
    "samtools index my_alignment.sorted.bam\n",
    "samtools depth /path/to/input > pileup.tab"
   ]
  }
 ],
 "metadata": {
  "kernelspec": {
   "display_name": "Python 3",
   "language": "python",
   "name": "python3"
  },
  "language_info": {
   "codemirror_mode": {
    "name": "ipython",
    "version": 3
   },
   "file_extension": ".py",
   "mimetype": "text/x-python",
   "name": "python",
   "nbconvert_exporter": "python",
   "pygments_lexer": "ipython3",
   "version": "3.6.6"
  }
 },
 "nbformat": 4,
 "nbformat_minor": 2
}
