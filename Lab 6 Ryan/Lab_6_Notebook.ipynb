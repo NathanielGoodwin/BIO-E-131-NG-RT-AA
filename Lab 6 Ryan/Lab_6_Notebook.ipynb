{
 "cells": [
  {
   "cell_type": "markdown",
   "metadata": {},
   "source": [
    "Here's me running bowtie:"
   ]
  },
  {
   "cell_type": "markdown",
   "metadata": {},
   "source": [
    "be131-19@meowth:~$ bowtie2 -p 4 --very-fast  --no-unal -x /data/hg19/hg19 -U /data/lab6/illumina_reads.fastq -S output.sam --un unaligned.fastq\n",
    "1124714 reads; of these:\n",
    "  1124714 (100.00%) were unpaired; of these:\n",
    "    1028379 (91.43%) aligned 0 times\n",
    "    87274 (7.76%) aligned exactly 1 time\n",
    "    9061 (0.81%) aligned >1 times\n",
    "8.57% overall alignment rate"
   ]
  },
  {
   "cell_type": "markdown",
   "metadata": {},
   "source": [
    "Q) What percentage of your sequencing library came from contaminating DNA?\n",
    "A) 8.57%"
   ]
  },
  {
   "cell_type": "markdown",
   "metadata": {},
   "source": [
    "Aligning unaligned.fastq to the Shewanella Oneidensis reference genome:"
   ]
  },
  {
   "cell_type": "markdown",
   "metadata": {},
   "source": [
    "be131-19@meowth:~$ bowtie2 -p 4 --very-fast  --no-unal -x /data/lab6/shewanella_oneidensis_mr-1 -U unaligned.fastq -S output2.sam --un unaligned2.fastq\n",
    "1028379 reads; of these:\n",
    "  1028379 (100.00%) were unpaired; of these:\n",
    "    299560 (29.13%) aligned 0 times\n",
    "    687571 (66.86%) aligned exactly 1 time\n",
    "    41248 (4.01%) aligned >1 times\n",
    "70.87% overall alignment rate"
   ]
  },
  {
   "cell_type": "markdown",
   "metadata": {},
   "source": [
    "Using --very-sensitive:"
   ]
  },
  {
   "cell_type": "markdown",
   "metadata": {},
   "source": [
    "be131-19@meowth:~$ bowtie2 -p 4 --very-sensitive  --no-unal -x /data/lab6/shewanella_oneidensis_mr-1 -U unaligned.fastq -Soutput2.sam --un unaligned2.fastq\n",
    "1028379 reads; of these:\n",
    "  1028379 (100.00%) were unpaired; of these:\n",
    "    298112 (28.99%) aligned 0 times\n",
    "    688180 (66.92%) aligned exactly 1 time\n",
    "    42087 (4.09%) aligned >1 times\n",
    "71.01% overall alignment rate"
   ]
  },
  {
   "cell_type": "markdown",
   "metadata": {},
   "source": [
    "My samtools commands:"
   ]
  },
  {
   "cell_type": "markdown",
   "metadata": {},
   "source": [
    "samtools view -b output.sam > my_alignment.bam\n",
    "samtools sort my_alignment.bam > my_alignment.sorted.bam\n",
    "samtools index my_alignment.sorted.bam\n",
    "samtools depth my_alignment.sorted.bam > pileup.tab"
   ]
  },
  {
   "cell_type": "code",
   "execution_count": 2,
   "metadata": {},
   "outputs": [
    {
     "ename": "FileNotFoundError",
     "evalue": "[Errno 2] No such file or directory: 'pileup.tab'",
     "output_type": "error",
     "traceback": [
      "\u001b[1;31m---------------------------------------------------------------------------\u001b[0m",
      "\u001b[1;31mFileNotFoundError\u001b[0m                         Traceback (most recent call last)",
      "\u001b[1;32m<ipython-input-2-b6f6034c3cce>\u001b[0m in \u001b[0;36m<module>\u001b[1;34m()\u001b[0m\n\u001b[1;32m----> 1\u001b[1;33m \u001b[1;32mwith\u001b[0m \u001b[0mopen\u001b[0m\u001b[1;33m(\u001b[0m\u001b[1;34m\"pileup.tab\"\u001b[0m\u001b[1;33m)\u001b[0m \u001b[1;32mas\u001b[0m \u001b[0minp\u001b[0m\u001b[1;33m:\u001b[0m\u001b[1;33m\u001b[0m\u001b[0m\n\u001b[0m\u001b[0;32m      2\u001b[0m   \u001b[0ma\u001b[0m \u001b[1;33m=\u001b[0m \u001b[0mlist\u001b[0m\u001b[1;33m(\u001b[0m\u001b[0mzip\u001b[0m\u001b[1;33m(\u001b[0m\u001b[1;33m*\u001b[0m\u001b[1;33m(\u001b[0m\u001b[0mline\u001b[0m\u001b[1;33m.\u001b[0m\u001b[0mstrip\u001b[0m\u001b[1;33m(\u001b[0m\u001b[1;33m)\u001b[0m\u001b[1;33m.\u001b[0m\u001b[0msplit\u001b[0m\u001b[1;33m(\u001b[0m\u001b[1;34m'\\t'\u001b[0m\u001b[1;33m)\u001b[0m \u001b[1;32mfor\u001b[0m \u001b[0mline\u001b[0m \u001b[1;32min\u001b[0m \u001b[0minp\u001b[0m\u001b[1;33m)\u001b[0m\u001b[1;33m)\u001b[0m\u001b[1;33m)\u001b[0m\u001b[1;33m\u001b[0m\u001b[0m\n\u001b[0;32m      3\u001b[0m \u001b[0mprint\u001b[0m\u001b[1;33m(\u001b[0m\u001b[0ma\u001b[0m\u001b[1;33m)\u001b[0m\u001b[1;33m\u001b[0m\u001b[0m\n",
      "\u001b[1;31mFileNotFoundError\u001b[0m: [Errno 2] No such file or directory: 'pileup.tab'"
     ]
    }
   ],
   "source": [
    "with open(\"pileup.tab\") as inp:\n",
    "  a = list(zip(*(line.strip().split('\\t') for line in inp)))\n",
    "print(a)"
   ]
  },
  {
   "cell_type": "code",
   "execution_count": null,
   "metadata": {},
   "outputs": [],
   "source": [
    "with open(\"pileup.tab\") as file:\n",
    "  for line in file:\n",
    "    for word in line.split():\n",
    "      print(word)"
   ]
  },
  {
   "cell_type": "code",
   "execution_count": null,
   "metadata": {},
   "outputs": [],
   "source": []
  }
 ],
 "metadata": {
  "kernelspec": {
   "display_name": "Python 3",
   "language": "python",
   "name": "python3"
  },
  "language_info": {
   "codemirror_mode": {
    "name": "ipython",
    "version": 3
   },
   "file_extension": ".py",
   "mimetype": "text/x-python",
   "name": "python",
   "nbconvert_exporter": "python",
   "pygments_lexer": "ipython3",
   "version": "3.6.5"
  }
 },
 "nbformat": 4,
 "nbformat_minor": 2
}
