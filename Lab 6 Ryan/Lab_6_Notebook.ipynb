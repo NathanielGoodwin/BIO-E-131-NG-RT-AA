{
 "cells": [
  {
   "cell_type": "markdown",
   "metadata": {},
   "source": [
    "Here's me running bowtie:"
   ]
  },
  {
   "cell_type": "markdown",
   "metadata": {},
   "source": [
    "be131-19@meowth:~$ bowtie2 -p 4 --very-fast  --no-unal -x /data/hg19/hg19 -U /data/lab6/illumina_reads.fastq -S output.sam --un unaligned.fastq\n",
    "1124714 reads; of these:\n",
    "  1124714 (100.00%) were unpaired; of these:\n",
    "    1028379 (91.43%) aligned 0 times\n",
    "    87274 (7.76%) aligned exactly 1 time\n",
    "    9061 (0.81%) aligned >1 times\n",
    "8.57% overall alignment rate"
   ]
  },
  {
   "cell_type": "markdown",
   "metadata": {},
   "source": [
    "Q) What percentage of your sequencing library came from contaminating DNA?\n",
    "A) 8.57%"
   ]
  },
  {
   "cell_type": "markdown",
   "metadata": {},
   "source": [
    "Aligning unaligned.fastq to the Shewanella Oneidensis reference genome:"
   ]
  },
  {
   "cell_type": "markdown",
   "metadata": {},
   "source": [
    "be131-19@meowth:~$ bowtie2 -p 4 --very-fast  --no-unal -x /data/lab6/shewanella_oneidensis_mr-1 -U unaligned.fastq -S output2.sam --un unaligned2.fastq\n",
    "1028379 reads; of these:\n",
    "  1028379 (100.00%) were unpaired; of these:\n",
    "    299560 (29.13%) aligned 0 times\n",
    "    687571 (66.86%) aligned exactly 1 time\n",
    "    41248 (4.01%) aligned >1 times\n",
    "70.87% overall alignment rate"
   ]
  },
  {
   "cell_type": "markdown",
   "metadata": {},
   "source": [
    "Using --very-sensitive:"
   ]
  },
  {
   "cell_type": "markdown",
   "metadata": {},
   "source": [
    "be131-19@meowth:~$ bowtie2 -p 4 --very-sensitive  --no-unal -x /data/lab6/shewanella_oneidensis_mr-1 -U unaligned.fastq -Soutput2.sam --un unaligned2.fastq\n",
    "1028379 reads; of these:\n",
    "  1028379 (100.00%) were unpaired; of these:\n",
    "    298112 (28.99%) aligned 0 times\n",
    "    688180 (66.92%) aligned exactly 1 time\n",
    "    42087 (4.09%) aligned >1 times\n",
    "71.01% overall alignment rate"
   ]
  },
  {
   "cell_type": "markdown",
   "metadata": {},
   "source": [
    "My samtools commands:"
   ]
  },
  {
   "cell_type": "markdown",
   "metadata": {},
   "source": [
    "samtools view -b output.sam > my_alignment.bam\n",
    "samtools sort my_alignment.bam > my_alignment.sorted.bam\n",
    "samtools index my_alignment.sorted.bam\n",
    "samtools depth my_alignment.sorted.bam > pileup.tab"
   ]
  },
  {
   "cell_type": "code",
   "execution_count": 1,
   "metadata": {},
   "outputs": [],
   "source": [
    "import csv \n",
    "with open(\"pileup.tab\") as inp:\n",
    "    a = list(zip(*(line.strip().split('\\t') for line in inp)))"
   ]
  },
  {
   "cell_type": "code",
   "execution_count": 5,
   "metadata": {
    "scrolled": true
   },
   "outputs": [
    {
     "name": "stdout",
     "output_type": "stream",
     "text": [
      "max coverage: 269\n",
      "min coverage 1\n",
      "mean coverage 36.95638840970833\n"
     ]
    }
   ],
   "source": [
    "positions = []\n",
    "for x in a[1]:\n",
    "    positions.append(int(x))\n",
    "\n",
    "depth_cov = []\n",
    "for x in a[2]:\n",
    "    depth_cov.append(int(x))\n",
    "    \n",
    "\n",
    "print(\"max coverage: \" + str(max(depth_cov)))\n",
    "print(\"min coverage \" + str(min(depth_cov)))\n",
    "print(\"mean coverage \" + str(sum(depth_cov)/len(depth_cov)))"
   ]
  },
  {
   "cell_type": "markdown",
   "metadata": {},
   "source": [
    "Me plotting:"
   ]
  },
  {
   "cell_type": "code",
   "execution_count": null,
   "metadata": {},
   "outputs": [],
   "source": [
    "import matplotlib.pyplot as plt\n",
    "import numpy as np\n",
    "\n",
    "x_values = positions\n",
    "y_values= depth_cov\n",
    "plt.scatter(x_values, y_values, s = 1)\n",
    "plt.xlabel(\"Position in Genome\")\n",
    "plt.ylabel(\"Depth of Coverage\")\n",
    "plt.title(\"Depth of Coverage vs Position in Genome\")\n",
    "plt.show()"
   ]
  },
  {
   "cell_type": "code",
   "execution_count": 7,
   "metadata": {},
   "outputs": [
    {
     "data": {
      "image/png": "[encoded data removed]",
      "text/plain": [
       "<Figure size 432x288 with 1 Axes>"
      ]
     },
     "metadata": {
      "needs_background": "light"
     },
     "output_type": "display_data"
    }
   ],
   "source": [
    "depth_axis = range(1, max(depth_cov) + 1)\n",
    "\n",
    "\n",
    "def count(num, lst):\n",
    "    i,c = 0, 0\n",
    "    while i < len(lst):\n",
    "        if lst[i] == num:\n",
    "            c += 1\n",
    "        i += 1\n",
    "    return c\n",
    "count_axis = []        \n",
    "for x in depth_axis:\n",
    "    count_axis.append(count(x, depth_cov))\n",
    "\n",
    "plt.bar(depth_axis, count_axis)\n",
    "plt.xlabel(\"Depth of Coverage\")\n",
    "plt.ylabel(\"Count\")\n",
    "plt.title(\"Depth of Coverage vs Count\")\n",
    "plt.show()"
   ]
  }
 ],
 "metadata": {
  "kernelspec": {
   "display_name": "Python 3",
   "language": "python",
   "name": "python3"
  },
  "language_info": {
   "codemirror_mode": {
    "name": "ipython",
    "version": 3
   },
   "file_extension": ".py",
   "mimetype": "text/x-python",
   "name": "python",
   "nbconvert_exporter": "python",
   "pygments_lexer": "ipython3",
   "version": "3.6.6"
  }
 },
 "nbformat": 4,
 "nbformat_minor": 2
}
