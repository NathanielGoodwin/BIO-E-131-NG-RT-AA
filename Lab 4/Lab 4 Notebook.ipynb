{
 "cells": [
  {
   "cell_type": "markdown",
   "metadata": {},
   "source": [
    "BASIC PLAN:\n",
    "Create tables relating shared/common info\n",
    "Code that will search all enzymes and gather list of IDs\n",
    "For loop that iterates through list of IDs and outputs all relevant info to database\n",
    "\n",
    "I wasn't at all able to do this given the time constraints but I kept this part because I think it'd still be a good approach if I had more time/experience.\n",
    "\n",
    "Practice creating tables in sqlite3:"
   ]
  },
  {
   "cell_type": "code",
   "execution_count": 3,
   "metadata": {},
   "outputs": [],
   "source": [
    "import sqlite3\n",
    "\n",
    "conn = sqlite3.connect(\"my.db\")\n",
    "cursor = conn.cursor()\n",
    "\n",
    "cursor.execute(\"\"\"CREATE TABLE genes (id INT, name TEXT, description TEXT, chromosome TEXT, start INT, end INT, strand VARCHAR(1));\"\"\")\n",
    "cursor.execute(\"\"\"INSERT INTO genes (id, name, description, chromosome, start, end, strand) VALUES ( , , , , , , ,);\"\"\")\n",
    "conn.commit()"
   ]
  },
  {
   "cell_type": "markdown",
   "metadata": {},
   "source": [
    "Trying to return genes"
   ]
  },
  {
   "cell_type": "code",
   "execution_count": 49,
   "metadata": {
    "scrolled": false
   },
   "outputs": [
    {
     "name": "stdout",
     "output_type": "stream",
     "text": [
      ">M83033.1 M.musculus immunoglobulin rearranged kappa-chain (OK1) mRNA V region, partial cds\n",
      "TGCAGTGCCAGCTCAAGTGTAAGTTACATGCACTGGTACCAGCAGAAGTCAGGCACCTCCCCCAAAAGAT\n",
      "GGATTTATGACACATCCAAATTGGCTTCTGGAGTCCCTGCTCGCTTCAGTGGCAGTGGGTCTGGGACCTC\n",
      "TTACTCTCTCACAATCAGCAACATGGAGGCTGAAGATGCTGCCACTTATTACTGCCAGCAGTGGAGTAGT\n",
      "AACCCGCTCACGTTCGGTGCTGGGACCAAGCTG\n",
      "\n",
      "\n"
     ]
    }
   ],
   "source": [
    "from Bio import Entrez\n",
    "\n",
    "Entrez.email = \"rtrujillo123@berkeley.edu\"\n",
    "#handle = Entrez.esearch(db='nucleotide', term='M83033.1', sort='relevance', idtype='acc')\n",
    "\n",
    "#for i in Entrez.read(handle)['IdList']:\n",
    "handle = Entrez.efetch(db='nucleotide', id='M83033.1', rettype='fasta', retmode='text')\n",
    "print(handle.read())"
   ]
  },
  {
   "cell_type": "raw",
   "metadata": {},
   "source": [
    "Trying to return descriptions for each pathway (never figured this out ????)      [@name='System_description']"
   ]
  },
  {
   "cell_type": "code",
   "execution_count": 41,
   "metadata": {
    "scrolled": true
   },
   "outputs": [
    {
     "name": "stdout",
     "output_type": "stream",
     "text": [
      "<Element 'Sys-set' at 0x000001F9C291CD68>\n"
     ]
    }
   ],
   "source": [
    "from Bio import Entrez\n",
    "import xml.etree.ElementTree as ET\n",
    "\n",
    "#Entrez.email = \"rtrujillo123@berkeley.edu\"\n",
    "#handle = Entrez.esearch(db='biosystems', term='82986', sort='relevance', idtype='acc')\n",
    "\n",
    "#for i in Entrez.read(handle)['IdList']:\n",
    "handle = (Entrez.efetch(db='biosystems', id=82926, rettype='xml, default', retmode='xml, default'))\n",
    "hanzle = ET.fromstring(handle.read())\n",
    "hanzle.findall(\"System_description\")\n",
    "print(hanzle)"
   ]
  },
  {
   "cell_type": "code",
   "execution_count": 42,
   "metadata": {
    "scrolled": false
   },
   "outputs": [
    {
     "ename": "AttributeError",
     "evalue": "'xml.etree.ElementTree.Element' object has no attribute 'read'",
     "output_type": "error",
     "traceback": [
      "\u001b[1;31m---------------------------------------------------------------------------\u001b[0m",
      "\u001b[1;31mAttributeError\u001b[0m                            Traceback (most recent call last)",
      "\u001b[1;32m<ipython-input-42-76d62409b205>\u001b[0m in \u001b[0;36m<module>\u001b[1;34m()\u001b[0m\n\u001b[0;32m      9\u001b[0m \u001b[0mhandle\u001b[0m \u001b[1;33m=\u001b[0m \u001b[0mET\u001b[0m\u001b[1;33m.\u001b[0m\u001b[0mfromstring\u001b[0m\u001b[1;33m(\u001b[0m\u001b[0mhandle\u001b[0m\u001b[1;33m.\u001b[0m\u001b[0mread\u001b[0m\u001b[1;33m(\u001b[0m\u001b[1;33m)\u001b[0m\u001b[1;33m)\u001b[0m\u001b[1;33m\u001b[0m\u001b[0m\n\u001b[0;32m     10\u001b[0m \u001b[0mhandle\u001b[0m\u001b[1;33m.\u001b[0m\u001b[0mfindall\u001b[0m\u001b[1;33m(\u001b[0m\u001b[1;34m\"System_description\"\u001b[0m\u001b[1;33m)\u001b[0m\u001b[1;33m\u001b[0m\u001b[0m\n\u001b[1;32m---> 11\u001b[1;33m \u001b[0mprint\u001b[0m\u001b[1;33m(\u001b[0m\u001b[0mhandle\u001b[0m\u001b[1;33m.\u001b[0m\u001b[0mread\u001b[0m\u001b[1;33m(\u001b[0m\u001b[1;33m)\u001b[0m\u001b[1;33m)\u001b[0m\u001b[1;33m\u001b[0m\u001b[0m\n\u001b[0m",
      "\u001b[1;31mAttributeError\u001b[0m: 'xml.etree.ElementTree.Element' object has no attribute 'read'"
     ]
    }
   ],
   "source": [
    "from Bio import Entrez\n",
    "import xml.etree.ElementTree as ET\n",
    "\n",
    "#Entrez.email = \"rtrujillo123@berkeley.edu\"\n",
    "#handle = Entrez.esearch(db='biosystems', term='82986', sort='relevance', idtype='acc')\n",
    "\n",
    "#for i in Entrez.read(handle)['IdList']:\n",
    "handle = (Entrez.efetch(db='biosystems', id=82926, rettype='xml, default', retmode='xml, default'))\n",
    "handle = ET.fromstring(handle.read())\n",
    "handle.findall(\"System_description\")\n",
    "print(handle.read())"
   ]
  },
  {
   "cell_type": "markdown",
   "metadata": {},
   "source": [
    "Testing adding to and accessing a table"
   ]
  },
  {
   "cell_type": "code",
   "execution_count": 9,
   "metadata": {},
   "outputs": [],
   "source": [
    "import sqlite3\n",
    "\n",
    "conn = sqlite3.connect(\"my.db\")\n",
    "cursor = conn.cursor()\n",
    "\n",
    "    #Enzymes\n",
    "#cursor.execute(\"\"\"CREATE TABLE enzymes (id INT, name TEXT, function TEXT, ec number TEXT);\"\"\")\n",
    "enzymes = [(1, 'phosphoglucomutase 1 - homo sapien', 'catalyzes the bidirectional interconversion of glucose-1-phosphate (G-1-P) and glucose-6-phosphate (G-6-P).', '5.4.2.2'),\n",
    "           (2, 'glucose-6-phosphatase - homo sapien', 'converts glucose-6-phosphate into free glucose', '3.1.3.9'),\n",
    "          (3, 'hexokinase 1 - homo sapien', 'facilitates phosphorylation of glucose to glucose-6-phosphate', '2.7.1.2'), \n",
    "           (4, 'phosphofructokinase - homo sapien', 'Catalyzes the phosphorylation of fructose-6-phosphate to fructose-1,6-biphosphate.', '2.7.1.11'),\n",
    "          (5, '', '', '')]\n",
    "cursor.executemany(\"\"\"INSERT INTO enzymes VALUES (?, ?, ?, ?)\"\"\", enzymes)\n",
    "#cursor.execute(\"\"\"INSERT INTO enzymes VALUES (1, 'PGM1', 'catalyzes the bidirectional interconversion of glucose-1-phosphate (G-1-P) and glucose-6-phosphate (G-6-P).', '5.4.2.2')\"\"\")\n",
    "conn.commit()\n"
   ]
  },
  {
   "cell_type": "markdown",
   "metadata": {},
   "source": [
    "Creating all databases"
   ]
  },
  {
   "cell_type": "code",
   "execution_count": 6,
   "metadata": {},
   "outputs": [
    {
     "ename": "OperationalError",
     "evalue": "table enzymes already exists",
     "output_type": "error",
     "traceback": [
      "\u001b[1;31m---------------------------------------------------------------------------\u001b[0m",
      "\u001b[1;31mOperationalError\u001b[0m                          Traceback (most recent call last)",
      "\u001b[1;32m<ipython-input-6-d03af25ba9f8>\u001b[0m in \u001b[0;36m<module>\u001b[1;34m()\u001b[0m\n\u001b[0;32m     12\u001b[0m \u001b[1;33m\u001b[0m\u001b[0m\n\u001b[0;32m     13\u001b[0m     \u001b[1;31m#Enzymes\u001b[0m\u001b[1;33m\u001b[0m\u001b[1;33m\u001b[0m\u001b[0m\n\u001b[1;32m---> 14\u001b[1;33m \u001b[0mcursor\u001b[0m\u001b[1;33m.\u001b[0m\u001b[0mexecute\u001b[0m\u001b[1;33m(\u001b[0m\u001b[1;34m\"\"\"CREATE TABLE enzymes (id INT, name TEXT, function TEXT, ec number TEXT);\"\"\"\u001b[0m\u001b[1;33m)\u001b[0m\u001b[1;33m\u001b[0m\u001b[0m\n\u001b[0m\u001b[0;32m     15\u001b[0m enzymes = [(1, 'phosphoglucomutase 1 - homo sapien', 'catalyzes the bidirectional interconversion of glucose-1-phosphate (G-1-P) and glucose-6-phosphate (G-6-P).', '5.4.2.2'),\n\u001b[0;32m     16\u001b[0m            \u001b[1;33m(\u001b[0m\u001b[1;36m2\u001b[0m\u001b[1;33m,\u001b[0m \u001b[1;34m'glucose-6-phosphatase - homo sapien'\u001b[0m\u001b[1;33m,\u001b[0m \u001b[1;34m'converts glucose-6-phosphate into free glucose'\u001b[0m\u001b[1;33m,\u001b[0m \u001b[1;34m'3.1.3.9'\u001b[0m\u001b[1;33m)\u001b[0m\u001b[1;33m,\u001b[0m\u001b[1;33m\u001b[0m\u001b[0m\n",
      "\u001b[1;31mOperationalError\u001b[0m: table enzymes already exists"
     ]
    }
   ],
   "source": [
    "import sqlite3\n",
    "\n",
    "conn = sqlite3.connect(\"my.db\")\n",
    "cursor = conn.cursor()\n",
    "\n",
    "    #Pathways\n",
    "#cursor.execute(\"\"\"CREATE TABLE pathways (id INT, name TEXT, description TEXT);\"\"\")\n",
    "cursor.execute(\"\"\"INSERT INTO pathways VALUES (1, 'glycolysis/gluconeogenesis', 'Glycolysis is the process of converting glucose into pyruvate and generating small amounts of ATP (energy) and NADH (reducing power). It is a central pathway that produces important precursor metabolites: six-carbon compounds of glucose-6P and fructose-6P and three-carbon compounds of glycerone-P, glyceraldehyde-3P, glycerate-3P, phosphoenolpyruvate, and pyruvate [MD:M00001]. Acetyl-CoA, another important precursor metabolite, is produced by oxidative decarboxylation of pyruvate [MD:M00307]. When the enzyme genes of this pathway are examined in completely sequenced genomes, the reaction steps of three-carbon compounds from glycerone-P to pyruvate form a conserved core module [MD:M00002], which is found in almost all organisms and which sometimes contains operon structures in bacterial genomes. Gluconeogenesis is a synthesis pathway of glucose from noncarbohydrate precursors. It is essentially a reversal of glycolysis with minor variations of alternative paths [MD:M00003].')\"\"\")\n",
    "cursor.execute(\"\"\"INSERT INTO pathways VALUES (2, 'the citric acid cycle', 'The citrate cycle (TCA cycle, Krebs cycle) is an important aerobic pathway for the final steps of the oxidation of carbohydrates and fatty acids. The cycle starts with acetyl-CoA, the activated form of acetate, derived from glycolysis and pyruvate oxidation for carbohydrates and from beta oxidation of fatty acids. The two-carbon acetyl group in acetyl-CoA is transferred to the four-carbon compound of oxaloacetate to form the six-carbon compound of citrate. In a series of reactions two carbons in citrate are oxidized to CO2 and the reaction pathway supplies NADH for use in the oxidative phosphorylation and other metabolic processes. The pathway also supplies important precursor metabolites including 2-oxoglutarate. At the end of the cycle the remaining four-carbon part is transformed back to oxaloacetate. According to the genome sequence data, many organisms seem to lack genes for the full cycle [MD:M00009], but contain genes for specific segments [MD:M00010 M00011].')\"\"\")\n",
    "cursor.execute(\"\"\"INSERT INTO pathways VALUES (3, 'pentose phosphate', 'The pentose phosphate pathway is a process of glucose turnover that produces NADPH as reducing equivalents and pentoses as essential parts of nucleotides. There are two different phases in the pathway. One is irreversible oxidative phase in which glucose-6P is converted to ribulose-5P by oxidative decarboxylation, and NADPH is generated [MD:M00006]. The other is reversible non-oxidative phase in which phosphorylated sugars are interconverted to generate xylulose-5P, ribulose-5P, and ribose-5P [MD:M00007]. Phosphoribosyl pyrophosphate (PRPP) formed from ribose-5P [MD:M00005] is an activated compound used in the biosynthesis of histidine and purine/pyrimidine nucleotides. This pathway map also shows the Entner-Doudoroff pathway where 6-P-gluconate is dehydrated and then cleaved into pyruvate and glyceraldehyde-3P [MD:M00008].')\"\"\")\n",
    "conn.commit()\n",
    "\n",
    "    #Enzymes\n",
    "cursor.execute(\"\"\"CREATE TABLE enzymes (id INT, name TEXT, function TEXT, ec number TEXT);\"\"\")\n",
    "enzymes = [(1, 'phosphoglucomutase 1 - homo sapien', 'catalyzes the bidirectional interconversion of glucose-1-phosphate (G-1-P) and glucose-6-phosphate (G-6-P).', '5.4.2.2'),\n",
    "           (2, 'glucose-6-phosphatase - homo sapien', 'converts glucose-6-phosphate into free glucose', '3.1.3.9'),\n",
    "          (3, 'hexokinase 1 - homo sapien', 'facilitates phosphorylation of glucose to glucose-6-phosphate', '2.7.1.2'), \n",
    "           (4, 'phosphofructokinase - homo sapien', 'Catalyzes the phosphorylation of fructose-6-phosphate to fructose-1,6-biphosphate.', '2.7.1.11'),\n",
    "          (5, '', '', '')]\n",
    "cursor.executemany(\"\"\"INSERT INTO enzymes VALUES (?, ?, ?, ?)\"\"\", enzymes)\n",
    "conn.commit()\n",
    "\n",
    "    #Genes\n",
    "cursor.execute(\"\"\"CREATE TABLE genes (id INT, name TEXT, chromosome TEXT, sequence TEXT);\"\"\")\n",
    "Entrez.efetch(db='nucleotide', id='M83303.1', rettype='fasta', retmode='text')\n",
    "cursor.execute(\"\"\"INSERT INTO genes VALUES (1, 'PGM1 - homo sapien', 1, handle.read())\"\"\")\n",
    "Entrez.efetch(db='nucleotide', id='X96937.1', rettype='fasta', retmode='text')               \n",
    "cursor.execute(\"\"\"INSERT INTO genes VALUES (2, 'glucose-6-phosphatase - homo sapien', 17, handle.read())\"\"\")\n",
    "Entrez.efetch(db='nucleotide', id='NG_012077.1', rettype='fasta', retmode='text')               \n",
    "cursor.execute(\"\"\"INSERT INTO genes VALUES (3, 'hexokinase 1 - homo sapien', 10, handle.read())\"\"\")\n",
    "Entrez.efetch(db='nucleotide', id='M64784.1', rettype='fasta', retmode='text')\n",
    "cursor.execute(\"\"\"INSERT INTO genes VALUES (4, 'phosphofructokinase - homo sapien', 11, handle.read())\"\"\")\n",
    "#Entrez.efetch(db='nucleotide', id='M83303.1', rettype='fasta', retmode='text')               \n",
    "#cursor.execute(\"\"\"INSERT INTO genes VALUES (5, 'name - species', chromosome, handle.read())\"\"\")\n",
    "Entrez.efetch(db='nucleotide', id='M83303.1', rettype='fasta', retmode='text')\n",
    "conn.commit()\n",
    "               \n",
    "    #relational table with a row for each enzyme and its corresponding gene/pathway.\n",
    "cursor.execute(\"\"\"CREATE TABLE relational (geneid INT, enzymeid INT, pathid INT)\"\"\")\n",
    "conn.commit\n"
   ]
  },
  {
   "cell_type": "code",
   "execution_count": null,
   "metadata": {},
   "outputs": [],
   "source": []
  }
 ],
 "metadata": {
  "kernelspec": {
   "display_name": "Python 3",
   "language": "python",
   "name": "python3"
  },
  "language_info": {
   "codemirror_mode": {
    "name": "ipython",
    "version": 3
   },
   "file_extension": ".py",
   "mimetype": "text/x-python",
   "name": "python",
   "nbconvert_exporter": "python",
   "pygments_lexer": "ipython3",
   "version": "3.6.5"
  }
 },
 "nbformat": 4,
 "nbformat_minor": 2
}
