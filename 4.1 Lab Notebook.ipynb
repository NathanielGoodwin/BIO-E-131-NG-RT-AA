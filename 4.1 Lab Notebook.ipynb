{
 "cells": [
  {
   "cell_type": "code",
   "execution_count": 3,
   "metadata": {},
   "outputs": [],
   "source": [
    "import sqlite3\n",
    "conn = sqlite3.connect('my.db')\n",
    "c = conn.cursor()\n",
    "c.execute(\"\"\"DROP TABLE genes\"\"\")\n",
    "c.execute(\"\"\"CREATE TABLE genes(name TEXT, description TEXT, organism TEXT,  nucleotide_sequence TEXT);\"\"\")\n",
    "c.execute(\"\"\"CREATE TABLE pathway(name TEXT, description TEXT);\"\"\")\n",
    "c.execute(\"\"\"CREATE TABLE enzyme(name TEXT, function TEXT, enzyme commission_number TEXT);\"\"\")\n",
    "conn.commit()"
   ]
  },
  {
   "cell_type": "code",
   "execution_count": 6,
   "metadata": {
    "scrolled": false
   },
   "outputs": [
    {
     "ename": "SyntaxError",
     "evalue": "invalid syntax (<ipython-input-6-9128786d79d3>, line 5)",
     "output_type": "error",
     "traceback": [
      "\u001b[0;36m  File \u001b[0;32m\"<ipython-input-6-9128786d79d3>\"\u001b[0;36m, line \u001b[0;32m5\u001b[0m\n\u001b[0;31m    c.execute(\"\"\"INSERT INTO genes (name, description, organism)\u001b[0m\n\u001b[0m    ^\u001b[0m\n\u001b[0;31mSyntaxError\u001b[0m\u001b[0;31m:\u001b[0m invalid syntax\n"
     ]
    }
   ],
   "source": [
    "c.execute(\"\"\"INSERT INTO pathway (name, description)\n",
    "                        VALUES (glycolysis, the breakdown of glucose by enzymes, releasing energy and pyruvic acid)\n",
    "                        VALUES (TCA,  is a series of chemical reactions used by all aerobic organisms to release stored energy)\n",
    "                        VALUES (Pentose Phosphate Pathway, metabolic pathway parallel to glycolysis))\"\"\"\n",
    "c.execute(\"\"\"INSERT INTO genes (name, description, organism)\n",
    "                        VALUES (1737DLAT, encodes component E2 of the multi-enzyme pyruvate dehydrogenase complex, human)\n",
    "                        VALUES (47(ACLY))\n",
    "                        VALUES ()\n",
    "                        VALUES ()\n",
    "                        VALUES ()\n",
    "                        VALUES ()\n",
    "                        VALUES ()\n",
    "                        VALUES ()\n",
    "                        VALUES ()\"\"\")\n",
    "c.execute(\"\"\"INSERT INTO enzyme (name, function, enzyme commission_number)\"\"\")\n",
    "                        VALUES\n",
    "conn.commit()"
   ]
  },
  {
   "cell_type": "code",
   "execution_count": 5,
   "metadata": {},
   "outputs": [
    {
     "name": "stdout",
     "output_type": "stream",
     "text": [
      ">Y08757.1 H.sapiens BRCA1 gene, breast and ovarian cancer rearrangement\n",
      "GCCGTGTCTGGCCCAGTATATATTTTTTAAGTTTTAAGTTTTGTGGTACGTAGTAGGTTTATAATATTAT\n",
      "TTTGAATCCCTAGTTGTAATTTTATGTCTGCTGATGTGTACATAATTTTTATTAAACTATTTATTTGAGA\n",
      "CTTCAGGTATCTTTTTTTTTTTTGAGACGGAGTCTCGCACTCTCGCCCAGGCTAGAGTGCAGTGGCGCCA\n",
      "TCTCGGCTTACTGCAAGCTCTGCCTCCTGGGTTCACGCCATTCTCCTGCCTCAGCCTCCTGAGTAGCTGA\n",
      "GACTACAGGTGCCCGCCACCACGCCTGGCTAATTTGGTGTATTTTTAGTAGAGACAGGGTTTCACCGTGT\n",
      "TAGCCAGGATGGTCTCGATCTCCTGACCTTGTGATCTGCCCGCCTCAGCCTCCCAAAGTGCTGAGATTAC\n",
      "AGGCGTGAGCCACCGCGCCCAGCCGAGACTTCAGGTGTCTTAGAATTTTTTAAATGTACCCTTTCTGAGA\n",
      "AAAACAGAGACTTAAAGCTAGGATAACTGGTATTCTATTTTTTTCTTTTTTTTTTTTTTACCTCCAGCCT\n",
      "GGGTGACAGAGCAAGACTCTGTCTAAAAAAAAAAAAAAAAAAAAATTCACTTTAAATAGTTCCAGGACAC\n",
      "GTGTAGAACGTGCAGGATTGCTACGTAGGTAAACATATGCCATGGTGGGATAACTAGTATTCTGAGCTGT\n",
      "GTGCTAGAGGTAACTCATGATAATGGAATATTTGATTTAATTTCAGATGCTCGTGTACAAGTTTGCCAGA\n",
      "AAACACCACATCACTTTAACTAATCTAATTACTGAAGAGACTACTCATGTTGTTATGAAAACAGGTATAC\n",
      "CAAGAACCTTTACAGAATACCTTGCATCTGCTGCATAAAACCACATGAGGCGAGGCACAGTGGCGCATGC\n",
      "CTGTAATCGCAGCACTTTGGGAGGCCGAGGCGGGCAGATCACGAGATTAGGAGATCGAGACCATCCTGGC\n",
      "CAGCATGGTGAAACCCCGTCTCTACTAAAAAATAAAAAAATTAGCTGGGTGTGGTCGCGTGCGCCTGTAG\n",
      "TCCCAGCTACTCGTGAGGCTGAGGCAGGAGAATCACTTGAACCGGGGAGATGGAGGTTGCAGTGAGCAGA\n",
      "GATCATGCCACTGCATTCCAGCCTGGCGACAGAGCAAGGCTCCGTCTCAAAAAAAAAAAAACGTGAAAAA\n",
      "ATAAGAATATTTGTTGAGCATAGCATGGATGATAGTCTTCTAATAGTCAATCAATTACTTTATGAAAGAC\n",
      "AAATAATAGTTTTGCTGCTTCCTTACCTCCTTTTGTTTTGGGTTAAGATTTGGAGTGTGGGCCAGGCACG\n",
      "GTGGCTCACACCTGTAATCTCAGCACTTTGGGAGGCCGAGGCGGGTGGATCACCTGAGGTCAGGAGTTCG\n",
      "AGACCAGCCTGGCCAACGTGTTGAAACCCCGTCTCTACTAAAAATATAAAAATTAGGTGGGCGTGGTGGC\n",
      "AGGCACCTGTAA\n",
      "\n",
      "\n"
     ]
    }
   ],
   "source": [
    "from Bio import Entrez\n",
    "Entrez.email = 'athaleeaguilar@berkeley.edu'\n",
    "handle = Entrez.esearch(db='nucleotide', term='homo sapiens[ORGN] BRCA1', sort='relevance', idtype='acc')\n",
    "\n",
    "for i in Entrez.read(handle)['IdList']:\n",
    "    handle = Entrez.efetch(db='nucleotide', id=i, rettype='fasta', retmode='text')\n",
    "print(handle.read())"
   ]
  },
  {
   "cell_type": "code",
   "execution_count": null,
   "metadata": {},
   "outputs": [],
   "source": []
  }
 ],
 "metadata": {
  "kernelspec": {
   "display_name": "Python 3",
   "language": "python",
   "name": "python3"
  },
  "language_info": {
   "codemirror_mode": {
    "name": "ipython",
    "version": 3
   },
   "file_extension": ".py",
   "mimetype": "text/x-python",
   "name": "python",
   "nbconvert_exporter": "python",
   "pygments_lexer": "ipython3",
   "version": "3.6.5"
  }
 },
 "nbformat": 4,
 "nbformat_minor": 2
}
