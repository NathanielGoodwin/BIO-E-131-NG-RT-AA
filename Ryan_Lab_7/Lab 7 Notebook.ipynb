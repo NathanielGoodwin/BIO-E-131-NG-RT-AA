{
 "cells": [
  {
   "cell_type": "markdown",
   "metadata": {},
   "source": [
    "Testing np.random.choice():"
   ]
  },
  {
   "cell_type": "code",
   "execution_count": null,
   "metadata": {},
   "outputs": [],
   "source": [
    "import numpy as np\n",
    "\n",
    "myvar= np.random.choice([0, 1], size=838860800, replace=True, p=[1, 0])\n",
    "#open('zeros_100p', 'wb').write(np.packbits(myvar))\n",
    "print(myvar)"
   ]
  },
  {
   "cell_type": "markdown",
   "metadata": {},
   "source": [
    "Combining random.choice w/ open().write():"
   ]
  },
  {
   "cell_type": "code",
   "execution_count": 31,
   "metadata": {},
   "outputs": [
    {
     "data": {
      "text/plain": [
       "104857600"
      ]
     },
     "execution_count": 31,
     "metadata": {},
     "output_type": "execute_result"
    }
   ],
   "source": [
    "import numpy as np\n",
    "\n",
    "open('zeros_100p', 'wb').write(np.packbits(np.random.choice([0, 1], size=838860800, replace=True, p=[1, 0])))\n",
    "open('zeros_90p', 'wb').write(np.packbits(np.random.choice([0, 1], size=838860800, replace=True, p=[0.9, 0.1])))\n",
    "open('zeros_80p', 'wb').write(np.packbits(np.random.choice([0, 1], size=838860800, replace=True, p=[0.8, 0.2])))\n",
    "open('zeros_70p', 'wb').write(np.packbits(np.random.choice([0, 1], size=838860800, replace=True, p=[0.7, 0.3])))\n",
    "open('zeros_60p', 'wb').write(np.packbits(np.random.choice([0, 1], size=838860800, replace=True, p=[0.6, 0.4])))\n",
    "open('zeros_50p', 'wb').write(np.packbits(np.random.choice([0, 1], size=838860800, replace=True, p=[0.5, 0.5])))"
   ]
  },
  {
   "cell_type": "code",
   "execution_count": 32,
   "metadata": {
    "scrolled": true
   },
   "outputs": [
    {
     "data": {
      "text/plain": [
       "100000000"
      ]
     },
     "execution_count": 32,
     "metadata": {},
     "output_type": "execute_result"
    }
   ],
   "source": [
    "import numpy as np\n",
    "open(\"nt_seq.fa\", \"w\").write(\"\".join(np.random.choice(['A', 'G', 'C', 'T'], size=100000000, replace=True, p=[0.25, 0.25, 0.25, 0.25])))\n",
    "open(\"aa_seq.fa\", \"w\").write(\"\".join(np.random.choice(['A', 'R', 'N', 'D', 'C', 'E', 'Q', 'G', 'H', 'I', 'L', 'K', 'M', 'F', 'P', 'S', 'T', 'W', 'Y', 'Z'], size=100000000, replace=True, p=[0.05, 0.05, 0.05, 0.05, 0.05, 0.05, 0.05, 0.05, 0.05, 0.05, 0.05, 0.05, 0.05, 0.05, 0.05, 0.05, 0.05, 0.05, 0.05, 0.05])))"
   ]
  },
  {
   "cell_type": "markdown",
   "metadata": {},
   "source": [
    "Had difficulty running open(“zeros_100p”, “wb”).write(zeros_100p) code when copied from lab 7 instructions, seems that at least one of the characters doesn't copy exactly as it seems to, had to retype myself."
   ]
  },
  {
   "cell_type": "markdown",
   "metadata": {},
   "source": [
    "Writing the commands for command line:"
   ]
  },
  {
   "cell_type": "markdown",
   "metadata": {},
   "source": [
    "time gzip -k zeros_100p\n",
    "time bzip2 -k zeros_100p\n",
    "time pbzip2 -k zeros_100p2\n",
    "time ArithmeticCompress zeros_100p zeros_100p.art\n",
    "\n",
    "time gzip -k zeros_90p\n",
    "time bzip2 -k zeros_90p\n",
    "time pbzip2 -k zeros_90p2\n",
    "time ArithmeticCompress zeros_90p zeros_90p.art\n",
    "\n",
    "time gzip -k zeros_80p\n",
    "time bzip2 -k zeros_80p\n",
    "time pbzip2 -k zeros_80p2\n",
    "time ArithmeticCompress zeros_80p zeros_80p.art\n",
    "\n",
    "time gzip -k zeros_70p\n",
    "time bzip2 -k zeros_70p\n",
    "time pbzip2 -k zeros_70p2\n",
    "time ArithmeticCompress zeros_70p zeros_70p.art\n",
    "\n",
    "time gzip -k zeros_60p\n",
    "time bzip2 -k zeros_60p\n",
    "time pbzip2 -k zeros_60p2\n",
    "time ArithmeticCompress zeros_60p zeros_60p.art\n",
    "\n",
    "time gzip -k zeros_50p\n",
    "time bzip2 -k zeros_50p\n",
    "time pbzip2 -k zeros_50p2\n",
    "time ArithmeticCompress zeros_50p zeros_50p.art\n",
    "\n",
    "time gzip -k nt_seq.fa\n",
    "time bzip2 -k nt_seq.fa\n",
    "time pbzip2 -k nt_seq2.fa\n",
    "time ArithmeticCompress nt_seq.fa nt_seq.art\n",
    "\n",
    "time gzip -k aa_seq.fa\n",
    "time bzip2 -k aa_seq.fa\n",
    "time pbzip2 -k aa_seq2.fa\n",
    "time ArithmeticCompress aa_seq.fa aa_seq.art"
   ]
  },
  {
   "cell_type": "markdown",
   "metadata": {},
   "source": [
    "Results from the above code in table format:"
   ]
  },
  {
   "cell_type": "markdown",
   "metadata": {},
   "source": [
    "|  Command  |  File (MB)    | Input (MB) | Output (MB) |   Time (s)  |\n",
    "|:---------:|:-------------:|:----------:|:-----------:|:-----------:|\n",
    "| gzip      | zeros_100p    |  105       |  0.102      |  0.877      |\n",
    "| bzip2     | zeros_100p    |  105       |  0.000113   |  1.020      |\n",
    "| pbzip2    | zeros_100p    |  105       |  0.00562    |  0.358      |\n",
    "| ArithComp | zeros_100p    |  105       |  0.00103    |  15.021     |\n",
    "| gzip      | zeros_90p     |  105       |  58.7       |  18.834     |\n",
    "| bzip2     | zeros_90p     |  105       |  61.2       |  10.989     |\n",
    "| pbzip2    | zeros_90p     |  105       |  61.2       |  0.734      |\n",
    "| ArithComp | zeros_90p     |  105       |  49.2       |  28.862     |\n",
    "| gzip      | zeros_80p     |  105       |  81.2       |  14.860     |\n",
    "| bzip2     | zeros_80p     |  105       |  86.6       |  12.599     |\n",
    "| pbzip2    | zeros_80p     |  105       |  86.7       |  0.923      |\n",
    "| ArithComp | zeros_80p     |  105       |  0.00103    |  75.7       |\n",
    "| gzip      | zeros_70p     |  105       |  93.6       |  6.377      |\n",
    "| bzip2     | zeros_70p     |  105       |  99.8       |  13.905     |\n",
    "| pbzip2    | zeros_70p     |  105       |  99.8       |  1.075      |\n",
    "| ArithComp | zeros_70p     |  105       |  92.4       |  39.154     |\n",
    "| gzip      | zeros_60p     |  105       |  102        |  4.283      |\n",
    "| bzip2     | zeros_60p     |  105       |  105        |  15.712     |\n",
    "| pbzip2    | zeros_60p     |  105       |  105        |  1.260      |\n",
    "| ArithComp | zeros_60p     |  105       |  102        |  40.975     |\n",
    "| gzip      | zeros_50p     |  105       |  105        |  3.550      |\n",
    "| bzip2     | zeros_50p     |  105       |  105        |  20.260     |\n",
    "| pbzip2    | zeros_50p     |  105       |  105        |  1.389      |\n",
    "| ArithComp | zeros_50p     |  105       |  105        |  40.650     |\n",
    "| gzip      | nt_seq.fa     |  100       |  29.2       |  12.138     |\n",
    "| bzip2     | nt_seq.fa     |  100       |  27.3       |  9.495      |\n",
    "| pbzip2    | nt_seq.fa     |  100       |  27.3       |  0.648      |\n",
    "| ArithComp | nt_seq.fa     |  100       |  25         |  21.454     |\n",
    "| gzip      | aa_seq.fa     |  100       |  60.6       |  4.475      |\n",
    "| bzip2     | aa_seq.fa     |  100       |  55.3       |  10.020     |\n",
    "| pbzip2    | aa_seq.fa     |  100       |  55.3       |  0.739      |\n",
    "| ArithComp | aa_seq.fa     |  100       |  54         |  28.505     |"
   ]
  },
  {
   "cell_type": "markdown",
   "metadata": {},
   "source": [
    "Q) Which algorithm achieves the best level of compression on each file type?\n",
    "A) zeros_100p = bzip2, 90p=ArithComp, 80p=ArithComp, 70p=ArithComp, 60p=gzip&ArithComp, 50p=tie, ntseq=ArithComp, AAseq=ArithComp\n",
    "\n",
    "Q) Which algorithm is the fastest?\n",
    "A) Always pbzip\n",
    "\n",
    "Q) What is the difference between bzip2 and pbzip2?\n",
    "A) pbzip is a version of bzip2 that does parallel processing\n",
    "\n",
    "Q) Do you expect one to be faster and why?\n",
    "A) pbzip because it is using more processors\n",
    "\n",
    "Q) How does the level of compression change as the percentage of zeros increases?\n",
    "A)\n",
    "\n",
    "Q) Why does this happen?\n",
    "A) \n",
    "\n",
    "Q) What is the minimum number of bits required to store a single DNA base?\n",
    "A)\n",
    "\n",
    "Q) What is the minimum number of bits required to store an amino acid letter?\n",
    "A)\n",
    "\n",
    "Q) In your tests, how many bits did gzip and bzip2 actually require to store your random DNA and protein sequences?\n",
    "A)\n",
    "\n",
    "Q) Are gzip and bzip2 performing well on DNA and proteins?\n",
    "A)"
   ]
  }
 ],
 "metadata": {
  "kernelspec": {
   "display_name": "Python 3",
   "language": "python",
   "name": "python3"
  },
  "language_info": {
   "codemirror_mode": {
    "name": "ipython",
    "version": 3
   },
   "file_extension": ".py",
   "mimetype": "text/x-python",
   "name": "python",
   "nbconvert_exporter": "python",
   "pygments_lexer": "ipython3",
   "version": "3.6.6"
  }
 },
 "nbformat": 4,
 "nbformat_minor": 2
}
